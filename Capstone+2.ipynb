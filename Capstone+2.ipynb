{
 "cells": [
  {
   "cell_type": "markdown",
   "metadata": {},
   "source": [
    "### TWITTER API SETUP"
   ]
  },
  {
   "cell_type": "code",
   "execution_count": 295,
   "metadata": {
    "collapsed": true
   },
   "outputs": [],
   "source": [
    "# IMPORT PACKAGES\n",
    "import tweepy # communicate with twitter api "
   ]
  },
  {
   "cell_type": "code",
   "execution_count": 296,
   "metadata": {
    "collapsed": true
   },
   "outputs": [],
   "source": [
    "# TWITTER API INFORMATION \n",
    "consumer_key = ''\n",
    "consumer_secret = ''\n",
    "\n",
    "access_token = ''\n",
    "access_secret = ''\n",
    "\n",
    "\n",
    "# AUTHENTICATE TO TWITTER API\n",
    "auth = OAuthHandler(consumer_key, consumer_secret)\n",
    "auth.set_access_token(access_token, access_secret)\n",
    "\n",
    "api = tweepy.API(auth)"
   ]
  },
  {
   "cell_type": "markdown",
   "metadata": {},
   "source": [
    "### EXTRACT DATA"
   ]
  },
  {
   "cell_type": "code",
   "execution_count": 298,
   "metadata": {},
   "outputs": [
    {
     "name": "stdout",
     "output_type": "stream",
     "text": [
      "2017-11-22 23:58:48\n",
      "RT @rh_monitor: 18:58:02 iPhoneX Available at [Brossard - DIX30] space_grey_256  #iphoneX #canada\n",
      "\n",
      "2017-11-22 23:58:03\n",
      "18:58:02 iPhoneX Available at [Brossard - DIX30] space_grey_256  #iphoneX #canada\n",
      "\n",
      "2017-11-22 23:57:51\n",
      "RT @appleinsider: #iPhoneX shipment times improve to 1-2 weeks ahead of holidays https://t.co/17c62gwk7W https://t.co/635n7MmcX3\n",
      "\n",
      "2017-11-22 23:57:14\n",
      "RT Phonatik: #iPhoneX's Face ID to the ultimate test with identical twins — and the results surprised us… https://t.co/aa0etxW7pr\n",
      "\n",
      "2017-11-22 23:57:13\n",
      "RT Phonatik: What happens if you shave your beard after registering it with Face ID on the #iPhoneX… https://t.co/5saZjghl2g\n",
      "\n",
      "2017-11-22 23:56:37\n",
      "RT @PollsBeast: Poll #317: You say...\n",
      "\n",
      "#iphone #iphoneX #ios112 #poll @apple #apple #polls #twitterpoll\n",
      "\n",
      "2017-11-22 23:56:29\n",
      "My new toy lol Well, it’s so beautiful \n",
      "#iPhone10\n",
      "#iPhoneX https://t.co/SC8zW4lPUI\n",
      "\n",
      "2017-11-22 23:56:09\n",
      "RT @Phonatik: #iPhoneX's Face ID to the ultimate test with identical twins — and the results surprised us \n",
      "https://t.co/s8gHKB9j6r\n",
      "https://…\n",
      "\n",
      "2017-11-22 23:56:05\n",
      "Poll #317: You say...\n",
      "\n",
      "#iphone #iphoneX #ios112 #poll @apple #apple #polls #twitterpoll\n",
      "\n",
      "2017-11-22 23:56:04\n",
      "RT @Phonatik: What happens if you shave your beard after registering it with Face ID on the #iPhoneX \n",
      "\n",
      "https://t.co/s8gHKB9j6r\n",
      "https://t.co…\n",
      "\n",
      "2017-11-22 23:55:04\n",
      "Well… @brand24 has a brand new design for #iPhoneX but #Skype from @Microsoft not. WTF? CC: @sadek @satyanadella\n",
      "\n",
      "2017-11-22 23:55:02\n",
      "10:55:02 iPhoneX Available at [Chatswood - Chatswood Chase] silver_256  #iphoneX #australia\n",
      "\n",
      "2017-11-22 23:54:25\n",
      "The torture of waiting for the UPS guy is finally over!!!\n",
      "#iphonex #newcamera #10 #whew https://t.co/ke7K0vHmNd\n",
      "\n",
      "2017-11-22 23:54:06\n",
      "RT @appleinsider: #iPhoneX shipment times improve to 1-2 weeks ahead of holidays https://t.co/17c62gwk7W https://t.co/635n7MmcX3\n",
      "\n",
      "2017-11-22 23:53:04\n",
      "Where to buy an #iPhoneX USA SIM Free Unlocked buying Guide\n",
      "https://t.co/VnjlDnoiBJ https://t.co/Ie0uN5Kzd2\n",
      "\n"
     ]
    }
   ],
   "source": [
    "# SEARCH FOR TWEETS GIVEN A SEARCH QUERY HASHTAG, q\n",
    "tweets = api.search(q='iphonex', lang='en', since='2017-11-20', until='2017-11-23')\n",
    "\n",
    "# PRINT EACH TWEET WITH DATE, TWEET\n",
    "for tweet in tweets:\n",
    "    \n",
    "    d = tweet.created_at # GET DATETIME \n",
    "    print(d)\n",
    "    \n",
    "    t = tweet.text       # GET TWEET ITSELF\n",
    "    print(t)\n",
    "    \n",
    "    print('')\n"
   ]
  },
  {
   "cell_type": "code",
   "execution_count": null,
   "metadata": {
    "collapsed": true
   },
   "outputs": [],
   "source": []
  }
 ],
 "metadata": {
  "kernelspec": {
   "display_name": "Python 3",
   "language": "python",
   "name": "python3"
  },
  "language_info": {
   "codemirror_mode": {
    "name": "ipython",
    "version": 3
   },
   "file_extension": ".py",
   "mimetype": "text/x-python",
   "name": "python",
   "nbconvert_exporter": "python",
   "pygments_lexer": "ipython3",
   "version": "3.6.1"
  }
 },
 "nbformat": 4,
 "nbformat_minor": 2
}
